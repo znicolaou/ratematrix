{
 "cells": [
  {
   "cell_type": "code",
   "execution_count": 1,
   "metadata": {},
   "outputs": [],
   "source": [
    "import cantera as ct\n",
    "import numpy as np"
   ]
  },
  {
   "cell_type": "code",
   "execution_count": 2,
   "metadata": {},
   "outputs": [],
   "source": [
    "gas=ct.Solution(\"gri30.cti\")"
   ]
  },
  {
   "cell_type": "code",
   "execution_count": 3,
   "metadata": {},
   "outputs": [],
   "source": [
    "ics=[13, 1, 3, 2, 47, 8]\n",
    "ns=len(gas.species())\n",
    "species=gas.species_names\n",
    "multiindex=np.zeros(ns)\n",
    "for i in range(0,len(ics),2):\n",
    "    multiindex[int(ics[i])]=ics[i+1]\n",
    "gas.TPX=1500,1*ct.one_atm,multiindex"
   ]
  },
  {
   "cell_type": "code",
   "execution_count": 4,
   "metadata": {},
   "outputs": [
    {
     "data": {
      "text/plain": [
       "<ThreeBodyReaction: H + O2 + M <=> HO2 + M>"
      ]
     },
     "execution_count": 4,
     "metadata": {},
     "output_type": "execute_result"
    }
   ],
   "source": [
    "rind=32\n",
    "reaction=gas.reactions()[32]\n",
    "reaction"
   ]
  },
  {
   "cell_type": "code",
   "execution_count": 5,
   "metadata": {},
   "outputs": [
    {
     "data": {
      "text/plain": [
       "3838115.667757274"
      ]
     },
     "execution_count": 5,
     "metadata": {},
     "output_type": "execute_result"
    }
   ],
   "source": [
    "gas.forward_rate_constants[rind]"
   ]
  },
  {
   "cell_type": "code",
   "execution_count": 6,
   "metadata": {},
   "outputs": [],
   "source": [
    "k0=reaction.rate.pre_exponential_factor*gas.T**(reaction.rate.temperature_exponent)*np.exp(-reaction.rate.activation_energy/(ct.gas_constant*gas.T))"
   ]
  },
  {
   "cell_type": "code",
   "execution_count": 7,
   "metadata": {},
   "outputs": [
    {
     "data": {
      "text/plain": [
       "1353.9464559585504"
      ]
     },
     "execution_count": 7,
     "metadata": {},
     "output_type": "execute_result"
    }
   ],
   "source": [
    "k0/gas.forward_rate_constants[rind]"
   ]
  },
  {
   "cell_type": "code",
   "execution_count": 8,
   "metadata": {},
   "outputs": [],
   "source": [
    "stoi=np.zeros(ns)\n",
    "k=0\n",
    "for third_body in range(ns):\n",
    "    efficiency=reaction.default_efficiency\n",
    "    stoi[third_body]+=1\n",
    "    if species[third_body] in reaction.efficiencies.keys():\n",
    "        efficiency=reaction.efficiencies[species[third_body]]\n",
    "    #since the k are dimensionalized, we are missing a dimension here\n",
    "    #concentrations should be moles per unit volume\n",
    "    #we only know the mole fractions\n",
    "    #is there some presumed volume for the gas??\n",
    "    #well, PV=nRT..., so RT/P is natural volume per moles, indeed\n",
    "    k+=efficiency*k0*np.product(gas.X**(stoi))/(ct.gas_constant*gas.T/gas.P)\n",
    "    stoi[third_body]-=1"
   ]
  },
  {
   "cell_type": "code",
   "execution_count": 9,
   "metadata": {},
   "outputs": [
    {
     "name": "stdout",
     "output_type": "stream",
     "text": [
      "1.0000000000000009\n"
     ]
    }
   ],
   "source": [
    "print(k/gas.forward_rate_constants[rind])"
   ]
  },
  {
   "cell_type": "code",
   "execution_count": 10,
   "metadata": {},
   "outputs": [
    {
     "data": {
      "text/plain": [
       "123.08604145077719"
      ]
     },
     "execution_count": 10,
     "metadata": {},
     "output_type": "execute_result"
    }
   ],
   "source": [
    "gas.volume_mole"
   ]
  },
  {
   "cell_type": "code",
   "execution_count": 11,
   "metadata": {},
   "outputs": [
    {
     "data": {
      "text/plain": [
       "123.08604145077719"
      ]
     },
     "execution_count": 11,
     "metadata": {},
     "output_type": "execute_result"
    }
   ],
   "source": [
    "ct.gas_constant*gas.T/gas.P"
   ]
  },
  {
   "cell_type": "code",
   "execution_count": 31,
   "metadata": {},
   "outputs": [
    {
     "name": "stdout",
     "output_type": "stream",
     "text": [
      "1.0000000000000004 1500.0\n",
      "1.0000000000000002 1500.0\n"
     ]
    }
   ],
   "source": [
    "gas.TPX=1500,1*ct.one_atm,multiindex\n",
    "\n",
    "refquant=ct.Quantity(gas,moles=1)\n",
    "refenth=refquant.enthalpy\n",
    "refenergy=refquant.int_energy\n",
    "refmass=refquant.mass\n",
    "refvol=refquant.volume\n",
    "\n",
    "gas2=ct.Solution(\"gri30.cti\")\n",
    "gas2.UVX=refenergy/refmass,refvol/refmass,multiindex\n",
    "quant=ct.Quantity(gas2,moles=1)\n",
    "\n",
    "print(quant.P/ct.one_atm, quant.T)\n",
    "print(refquant.P/ct.one_atm, refquant.T)"
   ]
  },
  {
   "cell_type": "code",
   "execution_count": 26,
   "metadata": {},
   "outputs": [
    {
     "data": {
      "text/plain": [
       "array([0., 0., 0., 2., 0., 0., 0., 0., 0., 0., 0., 0., 0., 1., 0., 0., 0.,\n",
       "       0., 0., 0., 0., 0., 0., 0., 0., 0., 0., 0., 0., 0., 0., 0., 0., 0.,\n",
       "       0., 0., 0., 0., 0., 0., 0., 0., 0., 0., 0., 0., 0., 8., 0., 0., 0.,\n",
       "       0., 0.])"
      ]
     },
     "execution_count": 26,
     "metadata": {},
     "output_type": "execute_result"
    }
   ],
   "source": [
    "multiindex"
   ]
  },
  {
   "cell_type": "code",
   "execution_count": 38,
   "metadata": {},
   "outputs": [
    {
     "name": "stdout",
     "output_type": "stream",
     "text": [
      "160555638441.48444 21894200529.856678\n",
      "1.9397024486818256e+64 4.0900158173183055e-125\n"
     ]
    }
   ],
   "source": [
    "gas=ct.Solution('h2o2.cti')\n",
    "gas.TPX=268.431,0.178954*ct.one_atm,np.array([4,2,1,1,2,1,0,1,3])\n",
    "print(np.max(gas.forward_rate_constants),np.max(gas.reverse_rate_constants))\n",
    "gas.TPX=7.60689,0.0050712*ct.one_atm,np.array([4,2,1,1,2,1,0,1,3])\n",
    "print(np.max(gas.forward_rate_constants),np.max(gas.reverse_rate_constants))"
   ]
  },
  {
   "cell_type": "code",
   "execution_count": 41,
   "metadata": {},
   "outputs": [
    {
     "data": {
      "text/plain": [
       "<ElementaryReaction: 2 OH <=> H2O + O>"
      ]
     },
     "execution_count": 41,
     "metadata": {},
     "output_type": "execute_result"
    }
   ],
   "source": [
    "gas.reactions()[np.argmax(gas.forward_rate_constants)]"
   ]
  },
  {
   "cell_type": "code",
   "execution_count": 50,
   "metadata": {},
   "outputs": [
    {
     "data": {
      "text/plain": [
       "'N2'"
      ]
     },
     "execution_count": 50,
     "metadata": {},
     "output_type": "execute_result"
    }
   ],
   "source": [
    "gas=ct.Solution('gri30.cti')\n",
    "gas.species_names[47]"
   ]
  },
  {
   "cell_type": "code",
   "execution_count": null,
   "metadata": {},
   "outputs": [],
   "source": []
  }
 ],
 "metadata": {
  "kernelspec": {
   "display_name": "Python 3",
   "language": "python",
   "name": "python3"
  },
  "language_info": {
   "codemirror_mode": {
    "name": "ipython",
    "version": 3
   },
   "file_extension": ".py",
   "mimetype": "text/x-python",
   "name": "python",
   "nbconvert_exporter": "python",
   "pygments_lexer": "ipython3",
   "version": "3.7.3"
  }
 },
 "nbformat": 4,
 "nbformat_minor": 2
}
