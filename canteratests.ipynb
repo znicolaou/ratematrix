{
 "cells": [
  {
   "cell_type": "code",
   "execution_count": 1,
   "metadata": {},
   "outputs": [],
   "source": [
    "import cantera as ct\n",
    "import numpy as np"
   ]
  },
  {
   "cell_type": "code",
   "execution_count": 2,
   "metadata": {},
   "outputs": [],
   "source": [
    "gas=ct.Solution(\"gri30.cti\")"
   ]
  },
  {
   "cell_type": "code",
   "execution_count": 6,
   "metadata": {},
   "outputs": [],
   "source": [
    "ics=[13, 1, 3, 2, 47, 8]\n",
    "ns=len(gas.species())\n",
    "species=gas.species_names\n",
    "multiindex=np.zeros(ns)\n",
    "for i in range(0,len(ics),2):\n",
    "    multiindex[int(ics[i])]=ics[i+1]\n",
    "gas.TPX=1500,1*ct.one_atm,multiindex"
   ]
  },
  {
   "cell_type": "code",
   "execution_count": 7,
   "metadata": {},
   "outputs": [
    {
     "data": {
      "text/plain": [
       "<ThreeBodyReaction: H + O2 + M <=> HO2 + M>"
      ]
     },
     "execution_count": 7,
     "metadata": {},
     "output_type": "execute_result"
    }
   ],
   "source": [
    "rind=32\n",
    "reaction=gas.reactions()[32]\n",
    "reaction"
   ]
  },
  {
   "cell_type": "code",
   "execution_count": 8,
   "metadata": {},
   "outputs": [
    {
     "data": {
      "text/plain": [
       "3838115.667757274"
      ]
     },
     "execution_count": 8,
     "metadata": {},
     "output_type": "execute_result"
    }
   ],
   "source": [
    "gas.forward_rate_constants[rind]"
   ]
  },
  {
   "cell_type": "code",
   "execution_count": 23,
   "metadata": {},
   "outputs": [],
   "source": [
    "k0=reaction.rate.pre_exponential_factor*gas.T**(reaction.rate.temperature_exponent)*np.exp(-reaction.rate.activation_energy/(ct.gas_constant*gas.T))"
   ]
  },
  {
   "cell_type": "code",
   "execution_count": 24,
   "metadata": {},
   "outputs": [
    {
     "data": {
      "text/plain": [
       "1353.9464559585504"
      ]
     },
     "execution_count": 24,
     "metadata": {},
     "output_type": "execute_result"
    }
   ],
   "source": [
    "k0/gas.forward_rate_constants[rind]"
   ]
  },
  {
   "cell_type": "code",
   "execution_count": 27,
   "metadata": {},
   "outputs": [],
   "source": [
    "stoi=np.zeros(ns)\n",
    "k=0\n",
    "for third_body in range(ns):\n",
    "    efficiency=reaction.default_efficiency\n",
    "    stoi[third_body]+=1\n",
    "    if species[third_body] in reaction.efficiencies.keys():\n",
    "        efficiency=reaction.efficiencies[species[third_body]]\n",
    "    #since the k are dimensionalized, we are missing a dimension here\n",
    "    #concentrations should be moles per unit volume\n",
    "    #we only know the mole fractions\n",
    "    #is there some presumed volume for the gas??\n",
    "    #well, PV=nRT..., so RT/P is natural volume per moles, indeed\n",
    "    k+=efficiency*k0*np.product(gas.X**(stoi))/(ct.gas_constant*gas.T/gas.P)\n",
    "    stoi[third_body]-=1"
   ]
  },
  {
   "cell_type": "code",
   "execution_count": 29,
   "metadata": {},
   "outputs": [
    {
     "name": "stdout",
     "output_type": "stream",
     "text": [
      "1.0000000000000009\n"
     ]
    }
   ],
   "source": [
    "print(k/gas.forward_rate_constants[rind])"
   ]
  },
  {
   "cell_type": "code",
   "execution_count": 32,
   "metadata": {},
   "outputs": [
    {
     "name": "stdout",
     "output_type": "stream",
     "text": [
      "\n",
      "  gri30:\n",
      "\n",
      "       temperature            1500  K\n",
      "          pressure          101325  Pa\n",
      "           density        0.224638  kg/m^3\n",
      "  mean mol. weight         27.6498  amu\n",
      "\n",
      "                          1 kg            1 kmol\n",
      "                       -----------      ------------\n",
      "          enthalpy       1.295e+06        3.581e+07     J\n",
      "   internal energy      8.4395e+05        2.333e+07     J\n",
      "           entropy          9211.2        2.547e+05     J/K\n",
      "    Gibbs function     -1.2522e+07       -3.462e+08     J\n",
      " heat capacity c_p          1453.3        4.018e+04     J/K\n",
      " heat capacity c_v          1152.6        3.187e+04     J/K\n",
      "\n",
      "                           X                 Y          Chem. Pot. / RT\n",
      "                     -------------     ------------     ------------\n",
      "                O2       0.181818         0.210416         -29.4885\n",
      "               CH4      0.0909091        0.0527465         -35.8316\n",
      "                N2       0.727273         0.736838         -26.3202\n",
      "     [  +50 minor]              0                0\n",
      "\n",
      "None\n"
     ]
    }
   ],
   "source": [
    "print(gas())"
   ]
  },
  {
   "cell_type": "code",
   "execution_count": 20,
   "metadata": {},
   "outputs": [
    {
     "data": {
      "text/plain": [
       "123.08604145077719"
      ]
     },
     "execution_count": 20,
     "metadata": {},
     "output_type": "execute_result"
    }
   ],
   "source": [
    "ct.gas_constant*gas.T/gas.P"
   ]
  }
 ],
 "metadata": {
  "kernelspec": {
   "display_name": "Python 3",
   "language": "python",
   "name": "python3"
  },
  "language_info": {
   "codemirror_mode": {
    "name": "ipython",
    "version": 3
   },
   "file_extension": ".py",
   "mimetype": "text/x-python",
   "name": "python",
   "nbconvert_exporter": "python",
   "pygments_lexer": "ipython3",
   "version": "3.7.3"
  }
 },
 "nbformat": 4,
 "nbformat_minor": 2
}
